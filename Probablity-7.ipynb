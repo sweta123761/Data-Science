{
 "cells": [
  {
   "cell_type": "markdown",
   "id": "f95dea2c",
   "metadata": {},
   "source": [
    "A Random Variable X is a function that assigns a real number to each outcome in the sample space of a random experiment.there are of 2 types\n",
    "1."
   ]
  },
  {
   "cell_type": "markdown",
   "id": "87d97b79",
   "metadata": {},
   "source": [
    "1.Discrete Random Variable-A random Variable that take countsble number of Distinct Value\n",
    "X={1,2,3,4,5,6}\n",
    "2.Continous Random Variable- A random Variable thst take any value within given range or interval\n",
    "y={20---60}\n",
    "Probablity measures the likelihood of a particular outcome or event occuring.\n",
    "P(A)=no. of times A occurs/Total possible outcomes"
   ]
  },
  {
   "cell_type": "markdown",
   "id": "abe9cf53",
   "metadata": {},
   "source": [
    "Probablity Distribution-it describes how the probablities of different outcomes are distributed over the sample space of a random variable \n",
    "1.Disrete Probablity DIstribution\n",
    "2.Continous Probablity Distribution"
   ]
  }
 ],
 "metadata": {
  "language_info": {
   "name": "python"
  }
 },
 "nbformat": 4,
 "nbformat_minor": 5
}
