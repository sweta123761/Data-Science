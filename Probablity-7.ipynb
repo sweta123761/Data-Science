{
 "cells": [
  {
   "cell_type": "markdown",
   "id": "f95dea2c",
   "metadata": {},
   "source": [
    "A Random Variable X is a function that assigns a real number to each outcome in the sample space of a random experiment.there are of 2 types\n",
    "1."
   ]
  },
  {
   "cell_type": "markdown",
   "id": "87d97b79",
   "metadata": {},
   "source": [
    "1.Discrete Random Variable-A random Variable that take countsble number of Distinct Value\n",
    "X={1,2,3,4,5,6}\n",
    "2.Continous Random Variable- A random Variable thst take any value within given range or interval\n",
    "y={20---60}\n",
    "Probablity measures the likelihood of a particular outcome or event occuring.\n",
    "P(A)=no. of times A occurs/Total possible outcomes"
   ]
  },
  {
   "cell_type": "markdown",
   "id": "abe9cf53",
   "metadata": {},
   "source": [
    "Probablity Distribution-it describes how the probablities of different outcomes are distributed over the sample space of a random variable \n",
    "1.Disrete Probablity DIstribution\n",
    "2.Continous Probablity Distribution\n",
    "\n",
    "\n",
    "Agar hame sirf ye dekhna hai ki data kitne baar occur hua hai then we use probablity distribution .\n",
    "but if we want to know ki future me is data ke occur hone ke kine chances hai then we use probablity distribution function"
   ]
  },
  {
   "cell_type": "code",
   "execution_count": null,
   "id": "de3e6225",
   "metadata": {
    "vscode": {
     "languageId": "plaintext"
    }
   },
   "outputs": [],
   "source": [
    "probablity Distribution Functions is a mathematical function that gives the probablities of occurrence of different possible outcomes of an experiment\n",
    "p(x)=y\n",
    "its type are\n",
    "1.probablity density function(PDF)-used when data is continous\n",
    "2.probablity mass function(PMF)-when data is discreet\n",
    "3.cumulative Density Function(CDF)-kitna data us data ke aage yaa phir peeche hai"
   ]
  },
  {
   "cell_type": "code",
   "execution_count": null,
   "id": "2b3912c3",
   "metadata": {
    "vscode": {
     "languageId": "plaintext"
    }
   },
   "outputs": [],
   "source": [
    "Normal Distribution/Gaussian Distribution-it is a probablity distribution function that is symmetric about mean,showing that data near mean are more frequent in occurences than data far from mean.bell shaped graph\n",
    "Standart Normal Distribution/Z distribution/Z score-special case of normal distribution were mean is 0 and standard deviation is 1"
   ]
  }
 ],
 "metadata": {
  "language_info": {
   "name": "python"
  }
 },
 "nbformat": 4,
 "nbformat_minor": 5
}
