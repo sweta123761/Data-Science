{
 "cells": [
  {
   "cell_type": "code",
   "execution_count": null,
   "id": "abd1a7c8",
   "metadata": {},
   "outputs": [],
   "source": []
  },
  {
   "cell_type": "markdown",
   "id": "6909843f",
   "metadata": {},
   "source": [
    "Mean Absolute DEviation-ye batata hai ki data kitna Spread hai (variance) aur while  building model jitna data kam spread ho utna acha hota hai.\n",
    "The mean absolute deviation of a dataset is the average distance between each data point and the mean.it gives us the idea of viariablity of dataset\n",
    "MAD=(summation(|Xi-Xbar|))/n"
   ]
  },
  {
   "cell_type": "markdown",
   "id": "62d418cc",
   "metadata": {},
   "source": [
    "Suppose we are given marksheet of 2 class and we have to choome only 1 of them for further studies .so first thing we do is find the average but if the average is also same then we check the spreadness of data(MAD).hence we would choose the one with lower MAD"
   ]
  },
  {
   "cell_type": "code",
   "execution_count": 1,
   "id": "2c8d8b89",
   "metadata": {},
   "outputs": [],
   "source": [
    "import numpy as np \n",
    "import pandas as pd \n",
    "import matplotlib.pyplot as plt \n",
    "import seaborn as sns "
   ]
  },
  {
   "cell_type": "code",
   "execution_count": 2,
   "id": "20cab900",
   "metadata": {},
   "outputs": [],
   "source": [
    "sec_a = np.array([75,65,73,68,72,76])\n",
    "sec_b= np.array([90,47,43,96,93,51])\n",
    "no = np.array([1,2,3,4,5,6])"
   ]
  },
  {
   "cell_type": "code",
   "execution_count": 5,
   "id": "ddef957d",
   "metadata": {},
   "outputs": [
    {
     "data": {
      "text/plain": [
       "np.float64(70.0)"
      ]
     },
     "execution_count": 5,
     "metadata": {},
     "output_type": "execute_result"
    }
   ],
   "source": [
    "mean=np.mean(sec_b)\n",
    "mean"
   ]
  },
  {
   "cell_type": "code",
   "execution_count": 6,
   "id": "a73d8aba",
   "metadata": {},
   "outputs": [
    {
     "data": {
      "image/png": "[encoded data removed]",
      "text/plain": [
       "<Figure size 1000x300 with 1 Axes>"
      ]
     },
     "metadata": {},
     "output_type": "display_data"
    }
   ],
   "source": [
    "plt.figure(figsize=(10,3))\n",
    "plt.scatter(sec_a,no,label=\"sec A\")\n",
    "plt.scatter(sec_b,no,label=\"sec B\",color=\"red\")\n",
    "plt.plot([70,70,70,70,70,70],no,c=\"blue\",label=\"Mean\")\n",
    "plt.legend()\n",
    "plt.show()"
   ]
  },
  {
   "cell_type": "markdown",
   "id": "819e828b",
   "metadata": {},
   "source": [
    "but plotting graph can be hectiv in its place we can directly find MAD"
   ]
  },
  {
   "cell_type": "code",
   "execution_count": null,
   "id": "4e5f2ea1",
   "metadata": {},
   "outputs": [
    {
     "data": {
      "text/plain": [
       "np.float64(3.8333333333333335)"
      ]
     },
     "execution_count": 7,
     "metadata": {},
     "output_type": "execute_result"
    }
   ],
   "source": [
    "MAD_a= np.sum(np.abs(sec_a-mean))/len(sec_a)\n",
    "MAD_a "
   ]
  },
  {
   "cell_type": "code",
   "execution_count": 8,
   "id": "a5fff3d4",
   "metadata": {},
   "outputs": [
    {
     "data": {
      "text/plain": [
       "np.float64(23.0)"
      ]
     },
     "execution_count": 8,
     "metadata": {},
     "output_type": "execute_result"
    }
   ],
   "source": [
    "MAD_b= np.sum(np.abs(sec_b-mean))/len(sec_b)\n",
    "MAD_b"
   ]
  },
  {
   "cell_type": "markdown",
   "id": "ac1e47ba",
   "metadata": {},
   "source": [
    "MAD of A is much less than of B hence better choice"
   ]
  },
  {
   "cell_type": "markdown",
   "id": "04bab1cb",
   "metadata": {},
   "source": [
    "agar MAD bhi same nikal jaye toh standard deviation(STD) ya phir variance nikalkar check karte hai both are almost same as STD=underoot(variance)\n",
    "lesser STD or variance better it is "
   ]
  },
  {
   "cell_type": "code",
   "execution_count": 9,
   "id": "d7f37bc4",
   "metadata": {},
   "outputs": [
    {
     "data": {
      "text/plain": [
       "(np.float64(3.8622100754188224), np.float64(23.18045153428495))"
      ]
     },
     "execution_count": 9,
     "metadata": {},
     "output_type": "execute_result"
    }
   ],
   "source": [
    "np.std(sec_a) , np.std(sec_b)"
   ]
  },
  {
   "cell_type": "code",
   "execution_count": 10,
   "id": "439825f2",
   "metadata": {},
   "outputs": [
    {
     "data": {
      "text/plain": [
       "(np.float64(14.916666666666666), np.float64(537.3333333333334))"
      ]
     },
     "execution_count": 10,
     "metadata": {},
     "output_type": "execute_result"
    }
   ],
   "source": [
    "np.var(sec_a) , np.var(sec_b)"
   ]
  },
  {
   "cell_type": "markdown",
   "id": "34f6a2f1",
   "metadata": {},
   "source": [
    "agar std 10 ke upar aa raha hai then problem in single column"
   ]
  }
 ],
 "metadata": {
  "kernelspec": {
   "display_name": "Python 3",
   "language": "python",
   "name": "python3"
  },
  "language_info": {
   "codemirror_mode": {
    "name": "ipython",
    "version": 3
   },
   "file_extension": ".py",
   "mimetype": "text/x-python",
   "name": "python",
   "nbconvert_exporter": "python",
   "pygments_lexer": "ipython3",
   "version": "3.12.6"
  }
 },
 "nbformat": 4,
 "nbformat_minor": 5
}
