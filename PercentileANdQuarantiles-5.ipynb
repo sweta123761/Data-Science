{
 "cells": [
  {
   "cell_type": "markdown",
   "id": "58a855fa",
   "metadata": {},
   "source": [
    "Percentiles are used in Statistics to give you a number thst describes the value that a given percentage of the data falls below\n",
    "((total-rank)/total)*100\n",
    "Outliers ko identify karne ke liye we use percentiles\n",
    "The range between Q1=25th percentile Q2= 75th percentile is called Interquartile range(IQR) from it we calculate minimum(Q1-1.5*IQR) and maximum(Q3+1.5*IQR) and values outside it are called outliers"
   ]
  }
 ],
 "metadata": {
  "language_info": {
   "name": "python"
  }
 },
 "nbformat": 4,
 "nbformat_minor": 5
}
