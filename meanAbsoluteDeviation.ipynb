{
 "cells": [
  {
   "cell_type": "markdown",
   "id": "a61099a7",
   "metadata": {},
   "source": [
    "Mean Absolute DEviation-ye batata hai ki data kitna Spread hai (variance) aur while  building model jitna data kam spread ho utna acha hota hai.\n",
    "The mean absolute deviation of a dataset is the average distance between each data point and the mean.it gives us the idea of viariablity of dataset\n",
    "MAD=(summation(|Xi-Xbar|))/n"
   ]
  },
  {
   "cell_type": "markdown",
   "id": "e2f54222",
   "metadata": {},
   "source": [
    "Suppose we are given marksheet of 2 class and we have to choome only 1 of them for further studies .so first thing we do is find the average but if the average is also same then we check the spreadness of data(MAD).hence we would choose the one with lower MAD"
   ]
  },
  {
   "cell_type": "code",
   "execution_count": null,
   "id": "d10408d0",
   "metadata": {},
   "outputs": [],
   "source": [
    "import numpy as np \n",
    "import pandas as pd \n",
    "import matplotlib.pyplot as plt \n",
    "import seaborn as sns "
   ]
  }
 ],
 "metadata": {
  "kernelspec": {
   "display_name": "Python 3",
   "language": "python",
   "name": "python3"
  },
  "language_info": {
   "name": "python",
   "version": "3.11.9"
  }
 },
 "nbformat": 4,
 "nbformat_minor": 5
}
