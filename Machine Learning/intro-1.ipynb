{
 "cells": [
  {
   "cell_type": "markdown",
   "id": "68b40483",
   "metadata": {},
   "source": [
    "Machine Learning is the science of getting computers act like humans do, and improving there learning overtime in autonomous fashion,by feeding them data and information in the form of real world interations\n"
   ]
  },
  {
   "cell_type": "markdown",
   "id": "0f976366",
   "metadata": {},
   "source": [
    "input data is given for training in machine learning algorithm were it learns the data and build logical models and then through it it predicts output for new data."
   ]
  },
  {
   "cell_type": "markdown",
   "id": "c4cd4569",
   "metadata": {},
   "source": [
    "what is diff between traditional programming and machine learning:-\n",
    "input(Data,Program)----->|tradional Programming|--------->Output\n",
    "\n",
    "input(Data,Output)------>|Machine Learning|------------>Program\n",
    "\n",
    "Machine learning generated program which can predict output for new data"
   ]
  },
  {
   "cell_type": "markdown",
   "id": "74b7a9c9",
   "metadata": {},
   "source": [
    "Classification Of Machine Learning\n",
    "1.Supervised ML(future prediction ,recommendation system)\n",
    "2.Unsupervised Learning(classification,groupism)\n",
    "3.Reinforcement  learning(trial and error)"
   ]
  },
  {
   "cell_type": "markdown",
   "id": "b109bfef",
   "metadata": {},
   "source": [
    "Advantages:-\n",
    "1.Easily identifies trends and patterns\n",
    "2.Automation\n",
    "3.Continous Improvement\n",
    "4.Handling multidimensional and multi variety of data \n",
    "5.Wide Applications\n",
    "Disadvantages:-\n",
    "1.Data aquisition\n",
    "2.Time And resources\n",
    "3.Interpretation of results\n",
    "4.High error Suspectiblity\n",
    "\n"
   ]
  },
  {
   "cell_type": "markdown",
   "id": "bddeaefa",
   "metadata": {},
   "source": [
    "USE OF MACHINE LEARNING\n",
    "Applications on the left:\n",
    "\n",
    "Automatic Language Translation\n",
    "\n",
    "Medical Diagnosis\n",
    "\n",
    "Stock Market Trading\n",
    "\n",
    "Online Fraud Detection\n",
    "\n",
    "Virtual Personal Assistant\n",
    "\n",
    "Email Spam & Malware Filtering\n",
    "\n",
    "Applications on the right:\n",
    "\n",
    "Self Driving Cars\n",
    "\n",
    "Product Recommendations\n",
    "\n",
    "Traffic Prediction\n",
    "\n",
    "Speech Recognition\n",
    "\n",
    "Image Recognition"
   ]
  },
  {
   "cell_type": "markdown",
   "id": "04e52638",
   "metadata": {},
   "source": [
    "Preprocessing Steps\n",
    "Exploratory Data Analysis\n",
    "\n",
    "Handling Missing Value\n",
    "\n",
    "Handling Outliers\n",
    "\n",
    "Categorical Encoding\n",
    "\n",
    "Normalizing & Standardization\n",
    "\n",
    "Feature Selection Techniques\n",
    "Correlation\n",
    "\n",
    "Forward Elimination\n",
    "\n",
    "Backward Elimination\n",
    "\n",
    "Univariate Selection\n",
    "\n",
    "Random Forest Importance\n",
    "\n",
    "Feature Selection with Decision Trees\n",
    "\n",
    "Other Key Concepts and Tools\n",
    "End to End ML Projects\n",
    "\n",
    "Model Deployments\n",
    "\n",
    "Dockers and Kubernetes\n",
    "\n",
    "Gridsearch, RandomisedSearch, Hyperopt, Genetic Algorithms\n",
    "\n",
    "Hyperparameter Tuning\n",
    "\n",
    "ML Algorithms:\n",
    "\n",
    "Linear\n",
    "\n",
    "Logistic Regression\n",
    "\n",
    "Decision Tree\n",
    "\n",
    "Random Forest\n",
    "\n",
    "KMeans\n",
    "\n",
    "Algorithm Categories:\n",
    "\n",
    "Regression and Classification\n",
    "\n",
    "Clustering\n",
    "\n",
    "Feature Selection\n",
    "\n",
    "Feature Engineering\n",
    "\n",
    "Exploratory Data Analysis\n",
    "\n",
    "Programming Languages:\n",
    "\n",
    "Python\n",
    "\n",
    "R"
   ]
  },
  {
   "cell_type": "markdown",
   "id": "21a051bd",
   "metadata": {},
   "source": [
    "libraries:-\n",
    "1.Numpy-numbers and calculation related work\n",
    "2.Matplotlib,seaborn-analysis using graph\n",
    "3.Scikit learn- building machine learning model\n",
    "4.Scipy-provides constant\n",
    "5.TensorFlow-used in Deep learning\n",
    "6.openCv-image processing\n",
    "7.NLTK-text processing"
   ]
  }
 ],
 "metadata": {
  "language_info": {
   "name": "python"
  }
 },
 "nbformat": 4,
 "nbformat_minor": 5
}
