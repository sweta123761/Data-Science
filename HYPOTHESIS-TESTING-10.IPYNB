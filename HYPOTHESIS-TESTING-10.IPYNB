{
 "cells": [
  {
   "cell_type": "markdown",
   "id": "f6aa5ddb",
   "metadata": {},
   "source": [
    "HypothesisTesting- jo nayi cheez aayi hai vo pehle ke comparitively better work kar rahi hai ya kharab work kar rahi hai is chiz ki testingko hypothesis testing bolte hai.\n",
    "it is part of statistical analysis.where we test the the assumption made regarding a population parameter.it is generally used when we were to compare a single group with an external standard and two or more groups with each other\n"
   ]
  },
  {
   "cell_type": "markdown",
   "id": "15c84198",
   "metadata": {},
   "source": [
    "suppose there is medicine A which can treat people in 5 hr now after that another medicine B is introduced which can treat people in 4hr.now they are taken to the the court were\n",
    "1.lawer1(null hypothesis)-says that there is no significant difference between A and B \n",
    "2.lawer2(alternative hypothesis)-says there is significant difference between A and B\n",
    "1.null hypothesis is a statistical theory that suggests there is no statisticsl significance exists between the populations. denoted by H0\n",
    "2.Alternative Hypothesis: An Alternative hypothsis suggests these is a significant difference between population parameters.it is denoted by h1"
   ]
  },
  {
   "cell_type": "code",
   "execution_count": null,
   "id": "6958406b",
   "metadata": {
    "vscode": {
     "languageId": "plaintext"
    }
   },
   "outputs": [],
   "source": [
    "Types of Hypothesis Testing\n",
    "1.Z-test,2.T-test------used in average cases\n",
    "3.chi-Square Test-goodness and relationship"
   ]
  },
  {
   "cell_type": "markdown",
   "id": "2f2f219d",
   "metadata": {},
   "source": [
    "Steps of Hypothesis Testing \n",
    "1. State null(H0) and lternative (H1) hypothesis\n",
    "H0 always contain equality (=).H1 always contains difference(=/=,>,<)\n",
    "\n",
    "2. Choose level of Significance(alpha):\n",
    "we assume that the graph is nornal graph  and after that we choose level of significance such that it acts as an interval which seperate the H0 and H1 section of graph\n",
    "3.Find Test Static-\n",
    "Z test-we use it when we have mean and Std of population data and Sample data should be>=30 to get sample mean\n",
    "T-test is used when we have -population mean,Std of Sample , Sample size<30 to get sample mean\n"
   ]
  }
 ],
 "metadata": {
  "language_info": {
   "name": "python"
  }
 },
 "nbformat": 4,
 "nbformat_minor": 5
}
