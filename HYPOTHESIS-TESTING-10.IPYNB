{
 "cells": [
  {
   "cell_type": "markdown",
   "id": "f6aa5ddb",
   "metadata": {},
   "source": [
    "HypothesisTesting- jo nayi cheez aayi hai vo pehle ke comparitively better work kar rahi hai ya kharab work kar rahi hai is chiz ki testingko hypothesis testing bolte hai.\n",
    "it is part of statistical analysis.where we test the the assumption made regarding a population parameter.it is generally used when we were to compare a single group with an external standard and two or more groups with each other\n"
   ]
  },
  {
   "cell_type": "markdown",
   "id": "15c84198",
   "metadata": {},
   "source": [
    "suppose there is medicine A which can treat people in 5 hr now after that another medicine B is introduced which can treat people in 4hr.now they are taken to the the court were\n",
    "1.lawer1(null hypothesis)-says that there is no significant difference between A and B \n",
    "2.lawer2(alternative hypothesis)-says there is significant difference between A and B\n",
    "1.null hypothesis is a statistical theory that suggests there is no statisticsl significance exists between the populations. denoted by H0\n",
    "2.Alternative Hypothesis: An Alternative hypothsis suggests these is a significant difference between population parameters.it is denoted by h1"
   ]
  },
  {
   "cell_type": "code",
   "execution_count": null,
   "id": "6958406b",
   "metadata": {},
   "outputs": [],
   "source": [
    "Types of Hypothesis Testing\n",
    "1.Z-test,2.T-test------used in average cases\n",
    "3.chi-Square Test-goodness and relationship"
   ]
  },
  {
   "cell_type": "markdown",
   "id": "2f2f219d",
   "metadata": {},
   "source": [
    "Steps of Hypothesis Testing \n",
    "1. State null(H0) and lternative (H1) hypothesis\n",
    "H0 always contain equality (=).H1 always contains difference(=/=,>,<)\n",
    "\n",
    "2. Choose level of Significance(alpha):\n",
    "we assume that the graph is nornal graph  and after that we choose level of significance such that it acts as an interval which seperate the H0 and H1 section of graph\n",
    "3.Find Test Static-\n",
    "--Z test-we use it when we have mean and Std of population data and Sample data should be>=30 to get sample mean\n",
    "--T-test is used when we have -population mean,Std of Sample , Sample size<30 to get sample mean\n",
    "--chi-Square test-suppose we are given a dice and it is again and agsin showing 1 then in this type of data we check the goodness of dice or it can be used to check relationship between 2 varaibles\n",
    "\n",
    "4. Find critical values:\n",
    "Z value ,T value\n",
    "\n",
    "5.Draw a conclusion\n",
    "wether H0 is accepted or H1 is accepted"
   ]
  },
  {
   "cell_type": "markdown",
   "id": "658c3522",
   "metadata": {},
   "source": [
    "Z test \n",
    "------------------\n"
   ]
  },
  {
   "cell_type": "code",
   "execution_count": 3,
   "id": "b9638224",
   "metadata": {},
   "outputs": [],
   "source": [
    "#if we want to do the same with python \n",
    "import scipy.stats as st\n",
    "import numpy as np"
   ]
  },
  {
   "cell_type": "code",
   "execution_count": 2,
   "id": "f2db6df8",
   "metadata": {},
   "outputs": [
    {
     "data": {
      "text/plain": [
       "np.float64(1.6448536269514722)"
      ]
     },
     "execution_count": 2,
     "metadata": {},
     "output_type": "execute_result"
    }
   ],
   "source": [
    "st.norm.ppf(0.95)#used to find Z tabulated value"
   ]
  },
  {
   "cell_type": "code",
   "execution_count": 4,
   "id": "c05e25a8",
   "metadata": {},
   "outputs": [],
   "source": [
    "S_x=90\n",
    "P_u=82\n",
    "p_std=20\n",
    "n=81\n",
    "ap= 0.05"
   ]
  },
  {
   "cell_type": "code",
   "execution_count": 5,
   "id": "597a812b",
   "metadata": {},
   "outputs": [
    {
     "data": {
      "text/plain": [
       "np.float64(3.5999999999999996)"
      ]
     },
     "execution_count": 5,
     "metadata": {},
     "output_type": "execute_result"
    }
   ],
   "source": [
    "z_cal = (S_x-P_u)/(p_std/np.sqrt(n))\n",
    "z_cal"
   ]
  },
  {
   "cell_type": "code",
   "execution_count": 6,
   "id": "4aff2d11",
   "metadata": {},
   "outputs": [
    {
     "data": {
      "text/plain": [
       "np.float64(1.6448536269514722)"
      ]
     },
     "execution_count": 6,
     "metadata": {},
     "output_type": "execute_result"
    }
   ],
   "source": [
    "z_table = st.norm.ppf(1-ap)\n",
    "z_table"
   ]
  },
  {
   "cell_type": "code",
   "execution_count": 8,
   "id": "29a8a438",
   "metadata": {},
   "outputs": [
    {
     "name": "stdout",
     "output_type": "stream",
     "text": [
      "Ha is right\n"
     ]
    }
   ],
   "source": [
    "if z_table< z_cal :\n",
    "    print(\"Ha is right\")\n",
    "else:\n",
    "    print(\"H0 is right\")\n"
   ]
  },
  {
   "cell_type": "code",
   "execution_count": 10,
   "id": "580d2bc7",
   "metadata": {},
   "outputs": [
    {
     "name": "stdout",
     "output_type": "stream",
     "text": [
      "h1 is right\n"
     ]
    }
   ],
   "source": [
    "#---question 2-----\n",
    "Old_design_data=[45.2,42.8,43.6,23.7,39.7]\n",
    "New_design_data=[48.9,43.7,54.8,47.9,63.6]\n",
    "pop_std=2.5\n",
    "n=5\n",
    "alpha=0.05\n",
    "mean_new=np.mean(New_design_data)\n",
    "mean_old=np.mean(Old_design_data)\n",
    "z_cal = (mean_new- mean_old)/(pop_std/np.sqrt(n))\n",
    "z_tab = st.norm.ppf(1-alpha)\n",
    "if z_cal>z_tab:\n",
    "    print(\"h1 is right\")\n",
    "else:\n",
    "    print(\"H0 is right\")"
   ]
  },
  {
   "cell_type": "markdown",
   "id": "922e88d8",
   "metadata": {},
   "source": [
    "T--Test\n",
    "1.ist assume data is normal distribution\n",
    "2.pop-mean(u)\n",
    "3.sample-mean(x),Std(s)\n",
    "3.no of sample data<30(n)\n",
    "Ttest=(x-u)/(s/sqrt(n))"
   ]
  },
  {
   "cell_type": "code",
   "execution_count": 11,
   "id": "5b6ae8c7",
   "metadata": {},
   "outputs": [],
   "source": [
    "import scipy.stats as st\n"
   ]
  },
  {
   "cell_type": "code",
   "execution_count": 13,
   "id": "b962faac",
   "metadata": {},
   "outputs": [
    {
     "data": {
      "text/plain": [
       "np.float64(-1.7108820799094282)"
      ]
     },
     "execution_count": 13,
     "metadata": {},
     "output_type": "execute_result"
    }
   ],
   "source": [
    "t_table = st.t.ppf(0.05,24)\n",
    "t_table"
   ]
  },
  {
   "cell_type": "code",
   "execution_count": 14,
   "id": "490ac1da",
   "metadata": {},
   "outputs": [],
   "source": [
    "t_cal=(148-150)/1        "
   ]
  },
  {
   "cell_type": "code",
   "execution_count": 15,
   "id": "20c50f36",
   "metadata": {},
   "outputs": [
    {
     "data": {
      "text/plain": [
       "np.float64(2.024394163911969)"
      ]
     },
     "execution_count": 15,
     "metadata": {},
     "output_type": "execute_result"
    }
   ],
   "source": [
    "#---question2----\n",
    "t_table = st.t.ppf(1-0.025,38)\n",
    "t_table"
   ]
  },
  {
   "cell_type": "code",
   "execution_count": 16,
   "id": "69828a42",
   "metadata": {},
   "outputs": [
    {
     "data": {
      "text/plain": [
       "np.float64(3.1311214554257476)"
      ]
     },
     "execution_count": 16,
     "metadata": {},
     "output_type": "execute_result"
    }
   ],
   "source": [
    "t_cal=(80-75)/(np.sqrt((25/20)+(26/20)))\n",
    "t_cal"
   ]
  },
  {
   "cell_type": "code",
   "execution_count": null,
   "id": "4e349b3c",
   "metadata": {},
   "outputs": [],
   "source": []
  }
 ],
 "metadata": {
  "kernelspec": {
   "display_name": "Python 3",
   "language": "python",
   "name": "python3"
  },
  "language_info": {
   "codemirror_mode": {
    "name": "ipython",
    "version": 3
   },
   "file_extension": ".py",
   "mimetype": "text/x-python",
   "name": "python",
   "nbconvert_exporter": "python",
   "pygments_lexer": "ipython3",
   "version": "3.12.6"
  }
 },
 "nbformat": 4,
 "nbformat_minor": 5
}
